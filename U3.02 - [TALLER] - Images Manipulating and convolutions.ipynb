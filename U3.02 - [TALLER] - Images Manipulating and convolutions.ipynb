{
  "cells": [
    {
      "cell_type": "markdown",
      "metadata": {
        "id": "tRRBgBXoZSgA"
      },
      "source": [
        "# LAB: Images"
      ]
    },
    {
      "cell_type": "code",
      "execution_count": null,
      "metadata": {
        "id": "u6iKKkhrZSgB"
      },
      "outputs": [],
      "source": [
        "!wget --no-cache -O init.py -q https://raw.githubusercontent.com/acubillosunal/UBM-DEEP-LEARNING-1/main/init.py\n",
        "import init; init.init(force_download=False);"
      ]
    },
    {
      "cell_type": "code",
      "execution_count": null,
      "metadata": {
        "id": "K3KeBztaZSgC",
        "outputId": "e7ecadaf-6989-4014-a127-a4e882343aba"
      },
      "outputs": [
        {
          "name": "stderr",
          "output_type": "stream",
          "text": [
            "2024-03-22 15:59:55.713774: I external/local_tsl/tsl/cuda/cudart_stub.cc:31] Could not find cuda drivers on your machine, GPU will not be used.\n",
            "2024-03-22 15:59:55.766468: E external/local_xla/xla/stream_executor/cuda/cuda_dnn.cc:9261] Unable to register cuDNN factory: Attempting to register factory for plugin cuDNN when one has already been registered\n",
            "2024-03-22 15:59:55.766495: E external/local_xla/xla/stream_executor/cuda/cuda_fft.cc:607] Unable to register cuFFT factory: Attempting to register factory for plugin cuFFT when one has already been registered\n",
            "2024-03-22 15:59:55.767705: E external/local_xla/xla/stream_executor/cuda/cuda_blas.cc:1515] Unable to register cuBLAS factory: Attempting to register factory for plugin cuBLAS when one has already been registered\n",
            "2024-03-22 15:59:55.775941: I external/local_tsl/tsl/cuda/cudart_stub.cc:31] Could not find cuda drivers on your machine, GPU will not be used.\n",
            "2024-03-22 15:59:55.776733: I tensorflow/core/platform/cpu_feature_guard.cc:182] This TensorFlow binary is optimized to use available CPU instructions in performance-critical operations.\n",
            "To enable the following instructions: AVX2 FMA, in other operations, rebuild TensorFlow with the appropriate compiler flags.\n",
            "2024-03-22 15:59:57.044882: W tensorflow/compiler/tf2tensorrt/utils/py_utils.cc:38] TF-TRT Warning: Could not find TensorRT\n"
          ]
        },
        {
          "data": {
            "text/plain": [
              "'2.15.0'"
            ]
          },
          "execution_count": 3,
          "metadata": {},
          "output_type": "execute_result"
        }
      ],
      "source": [
        "import sys\n",
        "if 'google.colab' in sys.modules:\n",
        "    print (\"setting tensorflow version in colab\")\n",
        "    %tensorflow_version 2.x\n",
        "    %load_ext tensorboard\n",
        "import tensorflow as tf\n",
        "tf.__version__"
      ]
    },
    {
      "cell_type": "code",
      "execution_count": null,
      "metadata": {
        "id": "DXEUiXDzZSgC"
      },
      "outputs": [],
      "source": [
        "import tensorflow as tf\n",
        "from time import time\n",
        "import pandas as pd\n",
        "import matplotlib.pyplot as plt\n",
        "import numpy as np\n",
        "#from local.lib import mlutils\n",
        "%matplotlib inline"
      ]
    },
    {
      "cell_type": "markdown",
      "metadata": {
        "id": "K2GL-w--ZSgC"
      },
      "source": [
        "## **Imágenes como datos: visualizaciones**\n",
        "\n",
        "Para mostrar datos de imágenes, dependerá de la biblioteca Matplotlib de Python y, específicamente, utilizará el submódulo pyplot de matplotlib, que contiene muchos comandos de trazado. Algunos de estos comandos le permiten mostrar el contenido de las imágenes almacenadas en matrices."
      ]
    },
    {
      "cell_type": "code",
      "execution_count": null,
      "metadata": {
        "id": "EKdwz6m1ZSgD"
      },
      "outputs": [],
      "source": [
        "# Load the image\n",
        "datos = plt.____('local/imgs/puentes.jpg')\n",
        "\n",
        "# Display the image\n",
        "plt.____(____)\n",
        "plt.show()"
      ]
    },
    {
      "cell_type": "markdown",
      "metadata": {
        "id": "g-Dzv33HZSgD"
      },
      "source": [
        "## **Imágenes como datos: cambiar imágenes**\n",
        "\n",
        "Para modificar una imagen, puede modificar los números existentes en la matriz. En una imagen en color, puede cambiar los valores en uno de los canales de color sin afectar los demás colores, indexando en la última dimensión de la matriz."
      ]
    },
    {
      "cell_type": "markdown",
      "metadata": {
        "id": "lSwr_-jWZSgD"
      },
      "source": [
        "Modifique la imagen del puente para reemplazar la esquina superior izquierda de la imagen (30 por 30 píxeles) en un cuadrado rojo.\n",
        "Visualice la imagen resultante."
      ]
    },
    {
      "cell_type": "code",
      "execution_count": null,
      "metadata": {
        "id": "7ro9nxg-ZSgD",
        "outputId": "b8b9a86b-3bea-400f-e83f-78b69d686ff7"
      },
      "outputs": [
        {
          "data": {
            "text/plain": [
              "[]"
            ]
          },
          "execution_count": 562,
          "metadata": {},
          "output_type": "execute_result"
        }
      ],
      "source": [
        "data = datos.copy()\n",
        "\n",
        "# Set the red channel in this part of the image to 1\n",
        "data[____] = ____\n",
        "\n",
        "# Set the green channel in this part of the image to 1\n",
        "data[____] = ____\n",
        "\n",
        "# Set the blue channel in this part of the image to 2\n",
        "data[____] = ____\n",
        "\n",
        "# Visualize the result\n",
        "____\n",
        "____"
      ]
    },
    {
      "cell_type": "markdown",
      "metadata": {
        "id": "jEmPsk1yZSgD"
      },
      "source": [
        "## **Convoluciones**"
      ]
    },
    {
      "cell_type": "markdown",
      "metadata": {
        "id": "Mo_p-VqCZSgD"
      },
      "source": [
        "### **Convoluciones unidimensionales**\n",
        "\n",
        "Una convolución de una matriz unidimensional con un núcleo consiste en tomar el núcleo, deslizarlo a lo largo de la matriz, multiplicarlo con los elementos de la matriz que se superponen con el núcleo en esa ubicación y sumar este producto."
      ]
    },
    {
      "cell_type": "markdown",
      "metadata": {
        "id": "aFMMl1yOZSgD"
      },
      "source": [
        "Multiplique cada ventana en la matriz de entrada con el kernel, sume el resultado multiplicado y asigne el resultado en la entrada correcta en la matriz de salida (conv)."
      ]
    },
    {
      "cell_type": "code",
      "execution_count": null,
      "metadata": {
        "id": "KNFT0N6oZSgD"
      },
      "outputs": [],
      "source": [
        "array = np.array([1, 0, 1, 0, 1, 0, 1, 0, 1, 0])\n",
        "kernel = np.array([1, -1, 0])\n",
        "conv = np.array([0, 0, 0, 0, 0, 0, 0, 0, 0, 0])\n",
        "\n",
        "# Output array\n",
        "for ii in range(8):\n",
        "    conv[ii] = (____ * array[____:____+____]).sum()\n",
        "\n",
        "# Print conv\n",
        "print(conv)"
      ]
    },
    {
      "cell_type": "markdown",
      "metadata": {
        "id": "jgcw_0PIZSgE"
      },
      "source": [
        "### **Convoluciones de imagen**\n",
        "\n",
        "La convolución de una imagen con núcleo resume una parte de la imagen como la suma de la multiplicación de esa parte de la imagen con núcleo. En este ejercicio, escribirás el código que ejecuta una convolución de una imagen con un kernel usando Numpy. Dada una imagen en blanco y negro almacenada en la variable im, escriba las operaciones dentro del bucle que ejecutaría la convolución con el núcleo proporcionado."
      ]
    },
    {
      "cell_type": "code",
      "execution_count": null,
      "metadata": {
        "id": "98ZUzIraZSgE"
      },
      "outputs": [],
      "source": [
        "im = plt.imread('local/imgs/puestes_verdes.jpg')\n",
        "\n",
        "kernel = np.array([[0, 1, 0], [1, 1, 1], [0, 1, 0]])\n",
        "result = np.zeros(im.shape)\n",
        "\n",
        "# Output array\n",
        "for ii in range(im.shape[0] - 3):\n",
        "    for jj in range(im.shape[1] - 3):\n",
        "        result[ii, jj] = (____[ii:ii+3, jj:____+____] * ____).____\n",
        "\n",
        "# Print result\n",
        "print(result)"
      ]
    },
    {
      "cell_type": "markdown",
      "metadata": {
        "id": "6MAjbFC7ZSgE"
      },
      "source": [
        "Considera los siguientes kernels\n",
        "\n",
        "Determina líneas Verticales en la imágen\n",
        "\n",
        "\n",
        "np.array([[-1, 1, -1],\n",
        "          [-1, 1, -1],\n",
        "          [-1, 1, -1]])\n",
        "\n",
        "Determina líneas horizontales en la imágen\n",
        "\n",
        "kernel = np.array([[-1, -1, -1],\n",
        "                   [1, 1, 1],\n",
        "                   [-1, -1 ,-1]])\n",
        "\n",
        "Define un núcleo que encuentra un punto claro rodeado de píxeles oscuros.\n",
        "\n",
        "kernel = np.array([[-1, -1, -1],\n",
        "                   [-1, 1, -1],\n",
        "                   [-1, -1, -1]])\n",
        "\n",
        "Define un núcleo que encuentra un punto oscuro rodeado de píxeles brillantes.\n",
        "\n",
        "kernel = np.array([[1, 1, 1],\n",
        "                   [1, -1, 1],\n",
        "                   [1, 1, 1]])"
      ]
    },
    {
      "cell_type": "markdown",
      "metadata": {
        "id": "55NwmkdTZSgE"
      },
      "source": [
        "Aplica los kernels definidos previamente y observa los cambios directamente sobre la imágen"
      ]
    }
  ],
  "metadata": {
    "kernelspec": {
      "display_name": "base",
      "language": "python",
      "name": "python3"
    },
    "language_info": {
      "codemirror_mode": {
        "name": "ipython",
        "version": 3
      },
      "file_extension": ".py",
      "mimetype": "text/x-python",
      "name": "python",
      "nbconvert_exporter": "python",
      "pygments_lexer": "ipython3",
      "version": "3.11.5"
    },
    "colab": {
      "provenance": []
    }
  },
  "nbformat": 4,
  "nbformat_minor": 0
}